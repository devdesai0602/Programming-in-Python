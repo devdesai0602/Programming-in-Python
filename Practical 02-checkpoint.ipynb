{
 "cells": [
  {
   "cell_type": "code",
   "execution_count": 1,
   "id": "ad22b925",
   "metadata": {},
   "outputs": [
    {
     "name": "stdout",
     "output_type": "stream",
     "text": [
      "Present,  value = 200\n",
      "Not present\n"
     ]
    }
   ],
   "source": [
    "# Write a Python script to check whether a given key already exists in a dictionary.\n",
    "\n",
    "# Developed By: Dev Desai(20CS015)\n",
    "\n",
    "def checkKey(dict, key):\n",
    "      \n",
    "    if key in dict:\n",
    "        print(\"Present, \", end =\" \")\n",
    "        print(\"value =\", dict[key])\n",
    "    else:\n",
    "        print(\"Not present\")\n",
    "  \n",
    "# Driver Code\n",
    "dict = {'a': 100, 'b':200, 'c':300}\n",
    "  \n",
    "key = 'b'\n",
    "checkKey(dict, key)\n",
    "  \n",
    "key = 'w'\n",
    "checkKey(dict, key)"
   ]
  },
  {
   "cell_type": "code",
   "execution_count": 2,
   "id": "7fc52b22",
   "metadata": {},
   "outputs": [
    {
     "name": "stdout",
     "output_type": "stream",
     "text": [
      "{'a': 100, 'b': 200, 'x': 300, 'y': 200}\n"
     ]
    }
   ],
   "source": [
    "# Write a Python script to merge two Python dictionaries.\n",
    "\n",
    "# Developed By: Dev Desai(20CS15)\n",
    "\n",
    "d1 = {'a': 100, 'b': 200}\n",
    "d2 = {'x': 300, 'y': 200}\n",
    "d = d1.copy()            #print(Merge(d1,d2))\n",
    "d.update(d2)\n",
    "print(d)"
   ]
  },
  {
   "cell_type": "code",
   "execution_count": 3,
   "id": "baac49aa",
   "metadata": {},
   "outputs": [
    {
     "name": "stdout",
     "output_type": "stream",
     "text": [
      "600\n"
     ]
    }
   ],
   "source": [
    "# Write a Python program to sum all the items in a dictionary.\n",
    "# my_dict = {'data1':100,'data2':-54,'data3':247}\n",
    "# print(sum(my_dict.values()))\n",
    "\n",
    "# Developed By: Dev Desai(20CS015)\n",
    "\n",
    "my_dict = {'A': 100, 'B': 200, 'C': 300}\n",
    "\n",
    "sum = 0\n",
    "for i in my_dict.values():\n",
    "    sum = sum + i\n",
    "\n",
    "print(sum)"
   ]
  },
  {
   "cell_type": "code",
   "execution_count": 4,
   "id": "06c73dfc",
   "metadata": {},
   "outputs": [
    {
     "name": "stdout",
     "output_type": "stream",
     "text": [
      "{0: 10, 1: 20}\n",
      "{0: 10, 1: 20, 2: 30}\n"
     ]
    }
   ],
   "source": [
    "# Write a Python script to add a key to a dictionary.\n",
    "\n",
    "# Developed By: Dev Desai(20CS015)\n",
    "\n",
    "d = {0:10, 1:20}\n",
    "print(d)\n",
    "d.update({2:30})\n",
    "print(d)"
   ]
  },
  {
   "cell_type": "code",
   "execution_count": 5,
   "id": "c3670f21",
   "metadata": {},
   "outputs": [
    {
     "name": "stdout",
     "output_type": "stream",
     "text": [
      "{1: 10, 2: 20, 3: 30, 4: 40, 5: 50, 6: 60}\n"
     ]
    }
   ],
   "source": [
    "# Write a Python script to concatenate following dictionaries to create a new one.\n",
    "# dic1={1:10, 2:20}\n",
    "# dic2={3:30, 4:40}\n",
    "# dic3={5:50,6:60}\n",
    "\n",
    "# Developed By: Dev Desai(20CS015)\n",
    "\n",
    "dic1={1:10, 2:20}\n",
    "dic2={3:30, 4:40}\n",
    "dic3={5:50,6:60}\n",
    "dic4 = {}\n",
    "for d in (dic1, dic2, dic3): dic4.update(d)\n",
    "print(dic4)"
   ]
  },
  {
   "cell_type": "code",
   "execution_count": 6,
   "id": "e4258503",
   "metadata": {},
   "outputs": [
    {
     "name": "stdout",
     "output_type": "stream",
     "text": [
      "('tuple', False, 3.2, 1)\n"
     ]
    }
   ],
   "source": [
    "                                       ##TUPLES\n",
    "    \n",
    "# Write a Python program to create a tuple with different data types.\n",
    "\n",
    "# Developed By: Dev Desai(20CS015)\n",
    "\n",
    "tuplex = (\"tuple\", False, 3.2, 1)\n",
    "print(tuplex)"
   ]
  },
  {
   "cell_type": "code",
   "execution_count": 7,
   "id": "c53fbcfc",
   "metadata": {},
   "outputs": [
    {
     "name": "stdout",
     "output_type": "stream",
     "text": [
      "('Banana', 'Apple', 'Mango', 'Orange')\n",
      "Mango\n"
     ]
    }
   ],
   "source": [
    "# Write a Python program to create a tuple with numbers and print one item.\n",
    "\n",
    "# Developed By: Dev Desai(20CS015)\n",
    "\n",
    "fruits=('Banana','Apple','Mango','Orange')\n",
    "print(fruits)\n",
    "print(fruits[2])"
   ]
  },
  {
   "cell_type": "code",
   "execution_count": 8,
   "id": "a3fd196a",
   "metadata": {},
   "outputs": [
    {
     "name": "stdout",
     "output_type": "stream",
     "text": [
      "(4, 6, 2, 8, 3, 1)\n",
      "(4, 6, 2, 8, 3, 1, 9)\n",
      "(4, 6, 2, 8, 3, 15, 20, 25, 4, 6, 2, 8, 3)\n"
     ]
    }
   ],
   "source": [
    "# Write a Python program to add an item in a tuple.\n",
    "\n",
    "# Developed By: Dev Desai(20CS015)\n",
    "\n",
    "#create a tuple\n",
    "tuplex = (4, 6, 2, 8, 3, 1) \n",
    "print(tuplex)\n",
    "#tuples are immutable, so you can not add new elements\n",
    "#using merge of tuples with the + operator you can add an element and it will create a new tuple\n",
    "tuplex = tuplex + (9,)\n",
    "print(tuplex)\n",
    "#adding items in a specific index\n",
    "tuplex = tuplex[:5] + (15, 20, 25) + tuplex[:5]\n",
    "print(tuplex)"
   ]
  },
  {
   "cell_type": "code",
   "execution_count": 12,
   "id": "362ff693",
   "metadata": {},
   "outputs": [
    {
     "name": "stdout",
     "output_type": "stream",
     "text": [
      "Dev Desai\n"
     ]
    }
   ],
   "source": [
    "# Write a Python program to convert a tuple to a string.\n",
    "\n",
    "# Developed By: Dev Desai(20CS015)\n",
    "\n",
    "tup = ('D', 'e', 'v',' ','D', 'e', 's', 'a', 'i')\n",
    "str =  ''.join(tup)\n",
    "print(str)"
   ]
  },
  {
   "cell_type": "code",
   "execution_count": 14,
   "id": "272d4350",
   "metadata": {},
   "outputs": [
    {
     "name": "stdout",
     "output_type": "stream",
     "text": [
      "('D', 'e', 'v', ' ', 'D', 'e', 's', 'a', 'i')\n",
      "9\n"
     ]
    }
   ],
   "source": [
    "# Write a Python program to find the length of a tuple.\n",
    "\n",
    "# Developed By: Dev Desai(20CS015)\n",
    "\n",
    "tuplex = tuple(\"Dev Desai\")\n",
    "print(tuplex)\n",
    "print(len(tuplex))"
   ]
  },
  {
   "cell_type": "code",
   "execution_count": 15,
   "id": "12d325e1",
   "metadata": {},
   "outputs": [
    {
     "name": "stdout",
     "output_type": "stream",
     "text": [
      "{'Cricket', 'Hockey', 'Football'}\n",
      "{'Cricket', 'Hockey', 'Football', 'Kabaddi'}\n",
      "{'Kabaddi', 'Tennis', 'Football', 'Cricket', 'Volleyball', 'Baseball', 'Hockey'}\n",
      "None\n"
     ]
    }
   ],
   "source": [
    "                                            #Sets\n",
    "    \n",
    "# Write a Python program to add member(s) in a set and clear a set\n",
    "\n",
    "# Developed By: Dev Desai(20CS015)\n",
    "\n",
    "sports={'Cricket','Football','Hockey'}\n",
    "print(sports)\n",
    "sports.add('Kabaddi')\n",
    "print(sports)\n",
    "sports.update(['Volleyball','Baseball','Tennis'])\n",
    "print(sports)\n",
    "print(sports.clear())"
   ]
  },
  {
   "cell_type": "code",
   "execution_count": 16,
   "id": "cd49339a",
   "metadata": {},
   "outputs": [
    {
     "name": "stdout",
     "output_type": "stream",
     "text": [
      "{'Apple', 'Orange', 'Mango', 'Banana', 'Grapes'}\n",
      "{'Apple', 'Orange', 'Mango', 'Grapes'}\n"
     ]
    }
   ],
   "source": [
    "# Write a Python program to remove an item from a set if it is present in the set.\n",
    "\n",
    "# Developed By: Dev Desai(20CS015)\n",
    "\n",
    "fruits={'Mango','Apple','Orange','Grapes','Banana'}\n",
    "print(fruits)\n",
    "fruits.remove('Banana')\n",
    "print(fruits)"
   ]
  },
  {
   "cell_type": "code",
   "execution_count": 17,
   "id": "0f2495a8",
   "metadata": {},
   "outputs": [
    {
     "name": "stdout",
     "output_type": "stream",
     "text": [
      "Intersection : {2, 4}\n",
      "Union : {0, 1, 2, 3, 4, 5, 6, 8}\n",
      "Difference : {0, 8, 6}\n"
     ]
    }
   ],
   "source": [
    "# Write a Python program to create an intersection, Union, difference of sets.\n",
    "\n",
    "# Developed By: Dev Desai(20CS015)\n",
    "\n",
    "A = {0, 2, 4, 6, 8};\n",
    "B = {1, 2, 3, 4, 5};\n",
    "print('Intersection :', A.intersection(B))\n",
    "print('Union :', A.union(B))\n",
    "print('Difference :', A.difference(B))"
   ]
  },
  {
   "cell_type": "code",
   "execution_count": 18,
   "id": "979768fe",
   "metadata": {},
   "outputs": [
    {
     "name": "stdout",
     "output_type": "stream",
     "text": [
      "{2, 51, 5, 200, 13, 110}\n",
      "Maximum : 200\n",
      "Minimum : 2\n"
     ]
    }
   ],
   "source": [
    "# Write a Python program to find maximum and the minimum value in a set.\n",
    "\n",
    "# Developed By: Dev Desai(20CS015)\n",
    "\n",
    "numbers = {51, 110, 13, 5, 2, 200}\n",
    "print(numbers)\n",
    "print('Maximum :', max(numbers))\n",
    "print('Minimum :', min(numbers))"
   ]
  },
  {
   "cell_type": "code",
   "execution_count": 19,
   "id": "2ff3079b",
   "metadata": {},
   "outputs": [
    {
     "name": "stdout",
     "output_type": "stream",
     "text": [
      "For List\n",
      "Element with highest frequency : mango\n",
      "Number of times element repeated : 3\n",
      "\n",
      "\n",
      "For Tuple\n",
      "Element with highest frequency : orange\n",
      "Number of times element repeated : 3\n",
      "\n",
      "\n",
      "For Dictionary\n",
      "Element with highest frequency : ABC\n"
     ]
    }
   ],
   "source": [
    "# Write a Python program to find the most common elements and their counts from list, tuple, dictionary.\n",
    "\n",
    "# Developed By: Dev Desai(20CS015)\n",
    "\n",
    "#LIST\n",
    "print(\"For List\")\n",
    "fruits=['apple','banana','orange','mango','mango','grapes','mango']\n",
    "res = max(set(fruits), key = fruits.count)\n",
    "number=fruits.count(res)\n",
    "print(\"Element with highest frequency :\",res)\n",
    "print(\"Number of times element repeated :\", number)\n",
    "print(\"\\n\")\n",
    "\n",
    "#TUPLE\n",
    "print(\"For Tuple\")\n",
    "fruits_tuple=('apple','banana','orange','mango','orange','grapes','orange')\n",
    "res = max(set(fruits_tuple), key = fruits_tuple.count)\n",
    "number=fruits_tuple.count(res)\n",
    "print(\"Element with highest frequency :\",res)\n",
    "print(\"Number of times element repeated :\", number)\n",
    "print(\"\\n\")\n",
    "\n",
    "#DICTIONARY\n",
    "print(\"For Dictionary\")\n",
    "student={\n",
    "    'name1':'ABC',\n",
    "    'name2':'PQR',\n",
    "    'name3':'ABC',\n",
    "    'name4':'XYZ',\n",
    "    'name5':'LMN',\n",
    "    'name6':'IJK',\n",
    "}\n",
    "tp=tuple(student.values())\n",
    "count=0\n",
    "element=tp[0]\n",
    "for i in tp:\n",
    "    ctr=tp.count(i)\n",
    "    if(ctr>count):\n",
    "        count=ctr\n",
    "        element=i\n",
    "print(\"Element with highest frequency :\",element)"
   ]
  },
  {
   "cell_type": "code",
   "execution_count": null,
   "id": "30bc824b",
   "metadata": {},
   "outputs": [],
   "source": []
  }
 ],
 "metadata": {
  "kernelspec": {
   "display_name": "Python 3 (ipykernel)",
   "language": "python",
   "name": "python3"
  },
  "language_info": {
   "codemirror_mode": {
    "name": "ipython",
    "version": 3
   },
   "file_extension": ".py",
   "mimetype": "text/x-python",
   "name": "python",
   "nbconvert_exporter": "python",
   "pygments_lexer": "ipython3",
   "version": "3.9.7"
  }
 },
 "nbformat": 4,
 "nbformat_minor": 5
}
